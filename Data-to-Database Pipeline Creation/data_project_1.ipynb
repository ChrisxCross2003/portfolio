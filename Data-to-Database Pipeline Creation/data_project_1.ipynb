{
 "cells": [
  {
   "cell_type": "markdown",
   "id": "3fe7ba43-37d5-4c9e-a5e3-3a3c63dcf680",
   "metadata": {},
   "source": [
    "# DS2002 Data Project 1\n",
    "## Christopher Joseph (F24)"
   ]
  },
  {
   "cell_type": "markdown",
   "id": "d70729a0-b5ac-430f-840c-ae0070d43312",
   "metadata": {},
   "source": [
    "# Part 1: CSV to JSON to SQL"
   ]
  },
  {
   "cell_type": "markdown",
   "id": "86354696-0de2-4cee-a169-4485fa7285b5",
   "metadata": {},
   "source": [
    "## Section 1: Fetch / download / retrieve a remote data file by URL, or ingest a local file \n",
    "The file I chose to download was a csv file on Federal Reserve Interest rates over time."
   ]
  },
  {
   "cell_type": "code",
   "execution_count": 11,
   "id": "11d754b4-a50e-44d5-a2ea-7393a6822d4e",
   "metadata": {},
   "outputs": [
    {
     "name": "stdout",
     "output_type": "stream",
     "text": [
      "      Month  Day  Federal Funds Target Rate  Federal Funds Upper Target  \\\n",
      "Year                                                                      \n",
      "1954      7    1                        NaN                         NaN   \n",
      "1954      8    1                        NaN                         NaN   \n",
      "1954      9    1                        NaN                         NaN   \n",
      "1954     10    1                        NaN                         NaN   \n",
      "1954     11    1                        NaN                         NaN   \n",
      "\n",
      "      Federal Funds Lower Target  Effective Federal Funds Rate  \\\n",
      "Year                                                             \n",
      "1954                         NaN                          0.80   \n",
      "1954                         NaN                          1.22   \n",
      "1954                         NaN                          1.06   \n",
      "1954                         NaN                          0.85   \n",
      "1954                         NaN                          0.83   \n",
      "\n",
      "      Real GDP (Percent Change)  Unemployment Rate  Inflation Rate  \n",
      "Year                                                                \n",
      "1954                        4.6                5.8             NaN  \n",
      "1954                        NaN                6.0             NaN  \n",
      "1954                        NaN                6.1             NaN  \n",
      "1954                        8.0                5.7             NaN  \n",
      "1954                        NaN                5.3             NaN  \n"
     ]
    }
   ],
   "source": [
    "import pandas as pd\n",
    "\n",
    "url = 'https://github.com/ChrisxCross2003/DS2002F24/blob/main/interest_rates.csv?raw=true'\n",
    "try:\n",
    "    df = pd.read_csv(url, index_col=0)\n",
    "    print(df.head(5))\n",
    "except Exception as e:\n",
    "    print(f\"Invalid link! Please check if the link was typed correctly. Error details: {e}\")"
   ]
  },
  {
   "cell_type": "markdown",
   "id": "b22f3436-4fcd-48b7-b538-2958b8bfdb8f",
   "metadata": {},
   "source": [
    "## Section 2: Pre-Processing Summary\n",
    "Let's summarize the data we are ingesting, more specifically, let's look at two attributes:\n",
    "1. Number of Rows\n",
    "2. Number of Columns"
   ]
  },
  {
   "cell_type": "code",
   "execution_count": 70,
   "id": "1de5f509-06da-4235-b103-f3627fb855bc",
   "metadata": {},
   "outputs": [
    {
     "name": "stdout",
     "output_type": "stream",
     "text": [
      "Number of rows ingested: 904\n",
      "Number of columns ingested: 9\n"
     ]
    }
   ],
   "source": [
    "# Number of rows\n",
    "print(\"Number of rows ingested: \"+str(len(df.index)))\n",
    "\n",
    "# Number of Columns\n",
    "print(\"Number of columns ingested: \"+str(len(df.columns)))"
   ]
  },
  {
   "cell_type": "markdown",
   "id": "30a1ad6d-5738-404b-8cc1-a8d178153252",
   "metadata": {},
   "source": [
    "## Section 3: Modifying the Data\n",
    "- Since some columns, like \"target interest rate\" are not used for all years, let's clean up our data and delete these columns.\n",
    "- This allows us to retain only the available information for all years, and delete any irrelevant data for optimal storage."
   ]
  },
  {
   "cell_type": "code",
   "execution_count": 75,
   "id": "d9b48607-d857-4002-9549-56e81cea4b42",
   "metadata": {},
   "outputs": [],
   "source": [
    "# It would be easier to trim the dataframe before converting to a JSON string, so let's specify which columns we want to keep.\n",
    "df.reset_index(inplace=True)\n",
    "columns_to_keep = ['Year', 'Month', 'Day', 'Effective Federal Funds Rate', 'Unemployment Rate', 'Inflation Rate']\n",
    "df2 = df[columns_to_keep]"
   ]
  },
  {
   "cell_type": "markdown",
   "id": "14c9cc9c-8278-4d0d-aa33-01ee6280e2f5",
   "metadata": {},
   "source": [
    "## Section 4: Post-Processing Summary"
   ]
  },
  {
   "cell_type": "code",
   "execution_count": 77,
   "id": "0148eb47-9773-4609-b5fd-55381601b4b8",
   "metadata": {},
   "outputs": [
    {
     "name": "stdout",
     "output_type": "stream",
     "text": [
      "Number of rows exported: 904\n",
      "Number of columns exported: 6\n",
      "Trimming was successful!\n"
     ]
    }
   ],
   "source": [
    "# Doublecheck if the columns have changed, but the rows haven't.\n",
    "print(\"Number of rows exported: \"+str(len(df2.index)))\n",
    "print(\"Number of columns exported: \"+str(len(df2.columns)))\n",
    "\n",
    "if (len(df2.columns) < len(df.columns)) and (len(df2.index) == len(df.index)):\n",
    "    print(\"Trimming was successful!\")\n",
    "else:\n",
    "    print(\"Trimming unsuccessful. Ensure you're creating a subset DataFrame from the original!\")"
   ]
  },
  {
   "cell_type": "markdown",
   "id": "c4f52c5a-8bfb-41ea-83d1-d1fa73d0e0f9",
   "metadata": {},
   "source": [
    "## Section 5: Converting DF to JSON"
   ]
  },
  {
   "cell_type": "code",
   "execution_count": 155,
   "id": "63a5ebc7-4c4d-4a8a-9105-e97786d4fa0a",
   "metadata": {},
   "outputs": [],
   "source": [
    "# pandas has a built-in df-to-json converter. Found information here: https://pandas.pydata.org/docs/reference/api/pandas.DataFrame.to_json.html\n",
    "result = df2.to_json(orient='records', lines=True)\n",
    "# print(result) Debugging only, very long output."
   ]
  },
  {
   "cell_type": "markdown",
   "id": "bfbf5ef6-187a-4ebe-b47b-cdd7cfea67e2",
   "metadata": {},
   "source": [
    "## Section 6: Converting from JSON to SQL\n",
    "- Let's store the JSON dataframe into an SQL database!"
   ]
  },
  {
   "cell_type": "code",
   "execution_count": 103,
   "id": "69eac35f-e5aa-4ca9-8a05-af6b94d7341b",
   "metadata": {},
   "outputs": [],
   "source": [
    "import json\n",
    "import sqlite3\n",
    "\n",
    "# Parse the JSON data (result is the JSON string)\n",
    "inflation_data = result.splitlines()  # Split JSON data by lines into a list of JSON strings\n",
    "parsed_data = [json.loads(entry) for entry in inflation_data]  # Parse each JSON string into a dictionary\n",
    "\n",
    "\n",
    "# Connect to SQLite\n",
    "conn = sqlite3.connect('federal_reserve.db')\n",
    "c = conn.cursor()\n",
    "\n",
    "# Create a table\n",
    "c.execute('''\n",
    "    CREATE TABLE IF NOT EXISTS inflation_rates (\n",
    "        Year INTEGER,\n",
    "        Month INTEGER,\n",
    "        Day INTEGER,\n",
    "        \"Effective Federal Funds Rate\" REAL,\n",
    "        \"Unemployment Rate\" REAL,\n",
    "        \"Inflation Rate\" REAL\n",
    "    )\n",
    "''')\n",
    "\n",
    "# Insert JSON data into the SQLite table\n",
    "for entry in parsed_data:\n",
    "    c.execute('''\n",
    "        INSERT INTO inflation_rates (Year, Month, Day, \"Effective Federal Funds Rate\", \"Unemployment Rate\", \"Inflation Rate\")\n",
    "        VALUES (?, ?, ?, ?, ?, ?)\n",
    "    ''', (entry['Year'], entry['Month'], entry['Day'], entry['Effective Federal Funds Rate'], entry['Unemployment Rate'], entry['Inflation Rate']))\n",
    "\n",
    "# Commit and close the connection\n",
    "conn.commit()\n",
    "conn.close()"
   ]
  },
  {
   "cell_type": "markdown",
   "id": "577f12bd-c38e-4a99-83a5-6fc6f328a294",
   "metadata": {},
   "source": [
    "## Section 7: Querying our Database to confirm processing is successful"
   ]
  },
  {
   "cell_type": "markdown",
   "id": "2025317f-692d-468c-8974-1536328d7ab2",
   "metadata": {},
   "source": [
    "### 7a: Show all data from the year 2000."
   ]
  },
  {
   "cell_type": "code",
   "execution_count": 139,
   "id": "f99254cd-ae5f-45f9-a4a8-7fd139694a41",
   "metadata": {},
   "outputs": [
    {
     "name": "stdout",
     "output_type": "stream",
     "text": [
      "All Inflation Data from the year 2000:\n",
      "\n",
      "Year | Month | Day | Effective Federal Funds Rate | Unemployment Rate | Inflation Rate\n",
      "(2000, 1, 1, 5.45, 4.0, 2.0)\n",
      "(2000, 2, 1, 5.73, 4.1, 2.2)\n",
      "(2000, 2, 2, None, None, None)\n",
      "(2000, 3, 1, 5.85, 4.0, 2.4)\n",
      "(2000, 3, 21, None, None, None)\n",
      "(2000, 4, 1, 6.02, 3.8, 2.3)\n",
      "(2000, 5, 1, 6.27, 4.0, 2.4)\n",
      "(2000, 5, 16, None, None, None)\n",
      "(2000, 6, 1, 6.53, 4.0, 2.5)\n",
      "(2000, 7, 1, 6.54, 4.0, 2.5)\n",
      "(2000, 8, 1, 6.5, 4.1, 2.6)\n",
      "(2000, 9, 1, 6.52, 3.9, 2.6)\n",
      "(2000, 10, 1, 6.51, 3.9, 2.5)\n",
      "(2000, 11, 1, 6.51, 3.9, 2.6)\n",
      "(2000, 12, 1, 6.4, 3.9, 2.6)\n"
     ]
    }
   ],
   "source": [
    "# Connect to SQLite\n",
    "conn = sqlite3.connect('federal_reserve.db')\n",
    "c = conn.cursor()\n",
    "\n",
    "# Select all data from the year 2000.\n",
    "c.execute('''\n",
    "SELECT * FROM inflation_rates WHERE YEAR = 2000\n",
    "''')\n",
    "\n",
    "# Fetch and display the results\n",
    "joined_data = c.fetchall()\n",
    "\n",
    "print(\"All Inflation Data from the year 2000:\\n\")\n",
    "\n",
    "# Getting column headers (used ChatGPT for assistance on showing the headers, since there is no sqlite method to do this)\n",
    "headers = [description[0] for description in c.description]\n",
    "\n",
    "# Print the headers\n",
    "print(\" | \".join(headers))\n",
    "\n",
    "for row in joined_data:\n",
    "    print(row)\n",
    "\n",
    "conn.commit()\n",
    "conn.close()"
   ]
  },
  {
   "cell_type": "markdown",
   "id": "1bad9ff0-836b-4d07-abed-34e03f2c0720",
   "metadata": {},
   "source": [
    "### 7b. Find the average Inflation rate for 2008"
   ]
  },
  {
   "cell_type": "code",
   "execution_count": 137,
   "id": "da6bd569-c350-43a6-865c-c2a48d78ff6a",
   "metadata": {},
   "outputs": [
    {
     "name": "stdout",
     "output_type": "stream",
     "text": [
      "Average Inflation Rate from 2008:\n",
      "\n",
      "2.308333333333333\n"
     ]
    }
   ],
   "source": [
    "# Connect to SQLite\n",
    "conn = sqlite3.connect('federal_reserve.db')\n",
    "c = conn.cursor()\n",
    "\n",
    "# Select the average inflation rate from the year 2000.\n",
    "c.execute('''\n",
    "SELECT AVG(\"Inflation Rate\") FROM inflation_rates WHERE YEAR = 2008\n",
    "''')\n",
    "\n",
    "# Fetch and display the results\n",
    "joined_data = c.fetchone()\n",
    "\n",
    "print(\"Average Inflation Rate from 2008:\\n\")\n",
    "\n",
    "for row in joined_data:\n",
    "    print(row)\n",
    "\n",
    "conn.commit()\n",
    "conn.close()"
   ]
  },
  {
   "cell_type": "markdown",
   "id": "5940700c-b833-4556-aadf-d05f0965167f",
   "metadata": {},
   "source": [
    "### 7c: List the average inflation rates for each year in our dataset."
   ]
  },
  {
   "cell_type": "code",
   "execution_count": 153,
   "id": "35380265-aff5-4b86-b4d1-f5689867fb88",
   "metadata": {},
   "outputs": [
    {
     "name": "stdout",
     "output_type": "stream",
     "text": [
      "(1954, None)\n",
      "(1955, None)\n",
      "(1956, None)\n",
      "(1957, None)\n",
      "(1958, 2.283333333333333)\n",
      "(1959, 1.9916666666666665)\n",
      "(1960, 1.5250000000000001)\n",
      "(1961, 1.125)\n",
      "(1962, 1.375)\n",
      "(1963, 1.2750000000000001)\n",
      "(1964, 1.5)\n",
      "(1965, 1.4416666666666667)\n",
      "(1966, 2.4166666666666665)\n",
      "(1967, 3.475)\n",
      "(1968, 4.633333333333334)\n",
      "(1969, 5.808333333333334)\n",
      "(1970, 6.241666666666667)\n",
      "(1971, 4.708333333333333)\n",
      "(1972, 3.0666666666666664)\n",
      "(1973, 3.4916666666666667)\n",
      "(1974, 8.208333333333334)\n",
      "(1975, 9.291666666666666)\n",
      "(1976, 6.566666666666666)\n",
      "(1977, 6.258333333333333)\n",
      "(1978, 7.3)\n",
      "(1979, 9.716666666666667)\n",
      "(1980, 12.433333333333332)\n",
      "(1981, 10.483333333333333)\n",
      "(1982, 7.4750000000000005)\n",
      "(1983, 3.9333333333333336)\n",
      "(1984, 4.941666666666666)\n",
      "(1985, 4.375)\n",
      "(1986, 4.058333333333334)\n",
      "(1987, 4.125)\n",
      "(1988, 4.416666666666667)\n",
      "(1989, 4.516666666666667)\n",
      "(1990, 5.016666666666667)\n",
      "(1991, 4.8999999999999995)\n",
      "(1992, 3.65)\n",
      "(1993, 3.3083333333333336)\n",
      "(1994, 2.8499999999999996)\n",
      "(1995, 2.9916666666666667)\n",
      "(1996, 2.716666666666667)\n",
      "(1997, 2.3916666666666666)\n",
      "(1998, 2.275)\n",
      "(1999, 2.0833333333333335)\n",
      "(2000, 2.433333333333333)\n",
      "(2001, 2.6583333333333337)\n",
      "(2002, 2.316666666666667)\n",
      "(2003, 1.45)\n",
      "(2004, 1.7666666666666666)\n",
      "(2005, 2.1666666666666665)\n",
      "(2006, 2.4916666666666667)\n",
      "(2007, 2.325)\n",
      "(2008, 2.308333333333333)\n",
      "(2009, 1.6916666666666667)\n",
      "(2010, 0.9583333333333334)\n",
      "(2011, 1.6666666666666667)\n",
      "(2012, 2.1166666666666667)\n",
      "(2013, 1.7583333333333335)\n",
      "(2014, 1.75)\n",
      "(2015, 1.825)\n",
      "(2016, 2.191666666666667)\n",
      "(2017, 2.25)\n"
     ]
    },
    {
     "data": {
      "image/png": "[encoded data removed]",
      "text/plain": [
       "<Figure size 1000x600 with 1 Axes>"
      ]
     },
     "metadata": {},
     "output_type": "display_data"
    }
   ],
   "source": [
    "import matplotlib.pyplot as plt\n",
    "\n",
    "# Connect to SQLite\n",
    "conn = sqlite3.connect('federal_reserve.db')\n",
    "c = conn.cursor()\n",
    "\n",
    "# SQL query to calculate average inflation rates for each year from 1970 to 2010\n",
    "c.execute('''\n",
    "SELECT Year, AVG(\"Inflation Rate\") FROM inflation_rates\n",
    "GROUP BY Year\n",
    "ORDER BY Year\n",
    "''')\n",
    "\n",
    "data = c.fetchall()\n",
    "\n",
    "# We can list the data...\n",
    "for row in data:\n",
    "    print(row)\n",
    "\n",
    "# Or we can work to plot it! (following example from sqlite plotting HW)\n",
    "# Used ChatGPT for help in splitting the years from the values to plot successfully\n",
    "years = [row[0] for row in data]\n",
    "avg_inflation_rates = [row[1] for row in data]\n",
    "\n",
    "# copied from SQLite HW\n",
    "plt.figure(figsize=(10, 6))\n",
    "plt.plot(years, avg_inflation_rates, marker='o', color='b', linestyle='-', label='Avg Inflation Rate')\n",
    "\n",
    "# Adding labels and title (https://www.w3schools.com/python/matplotlib_labels.asp)\n",
    "plt.title('Average Inflation Rate (1970-2010)', fontsize=14)\n",
    "plt.xlabel('Year', fontsize=12)\n",
    "plt.ylabel('Average Inflation Rate (%)', fontsize=12)\n",
    "\n",
    "plt.grid(True)\n",
    "plt.show()\n",
    "\n",
    "conn.commit()\n",
    "conn.close()"
   ]
  },
  {
   "cell_type": "markdown",
   "id": "6639ec44-3eb0-4e5c-88ad-577efa2aa014",
   "metadata": {},
   "source": [
    "# Part 2: JSON to CSV to SQL"
   ]
  },
  {
   "cell_type": "markdown",
   "id": "f011dd93-7ba3-4077-b61b-3e38902b7b20",
   "metadata": {},
   "source": [
    "## Section 1: Fetch / download / retrieve a remote data file by URL, or ingest a local file \n",
    "The file I chose to download was a JSON file on GDP Data of Different Countries over time. This data was taken from a sample Github Source, and is not meant to be treated as real-world data."
   ]
  },
  {
   "cell_type": "code",
   "execution_count": 27,
   "id": "aee4c946-2089-47f7-9dc9-b912680cf6d1",
   "metadata": {},
   "outputs": [
    {
     "name": "stdout",
     "output_type": "stream",
     "text": [
      "  Country Name Country Code  Year        Value\n",
      "0   Arab World          ARB  1960   96388069.0\n",
      "1   Arab World          ARB  1961   98882541.4\n",
      "2   Arab World          ARB  1962  101474075.8\n",
      "3   Arab World          ARB  1963  104169209.2\n",
      "4   Arab World          ARB  1964  106978104.6\n"
     ]
    }
   ],
   "source": [
    "import pandas as pd\n",
    "\n",
    "url = 'https://github.com/ChrisxCross2003/DS2002F24/blob/main/population_data.json?raw=true'\n",
    "\n",
    "# try to read the url using the pandas read json command (code taken from one of our homeworks).\n",
    "try:\n",
    "    df1 = pd.read_json(url)\n",
    "    print(df1.head(5))\n",
    "except Exception as e:\n",
    "    # If this fails, throw an error\n",
    "    print(f\"Invalid link! Please check if the link was typed correctly. Error details: {e}\")\n",
    "    "
   ]
  },
  {
   "cell_type": "markdown",
   "id": "9e826dff-f7e5-4fa6-b391-f8efa9ed9dd0",
   "metadata": {},
   "source": [
    "## Section 2: Pre-Processing Summary\n",
    "Let's summarize the data we are ingesting, more specifically, let's look at two attributes:\r\n",
    "-\r\n",
    "Number of R- - s\r\n",
    "Number of Cmnluns\n"
   ]
  },
  {
   "cell_type": "code",
   "execution_count": 7,
   "id": "2afb4551-7dfa-412e-bc79-864031824d6c",
   "metadata": {},
   "outputs": [
    {
     "name": "stdout",
     "output_type": "stream",
     "text": [
      "Number of rows ingested: 12407\n",
      "Number of columns ingested: 4\n"
     ]
    }
   ],
   "source": [
    "# Number of rows\n",
    "print(\"Number of rows ingested: \"+str(len(df1.index)))\n",
    "\n",
    "# Number of Columns\n",
    "print(\"Number of columns ingested: \"+str(len(df1.columns)))"
   ]
  },
  {
   "cell_type": "markdown",
   "id": "3212bca0-b29f-4a5e-b59b-300e07d6f180",
   "metadata": {},
   "source": [
    "## Section 3: Modifying the Data\n",
    "- One column called \"Value\" does not give us proper insight into what the data is showing. We need to rename this column to a more specific value, so that the reader can understand what the data refers to without using external references.\n",
    "- It would also make sense to delete any data points that are classified as territories since they are not the data we want to focus on."
   ]
  },
  {
   "cell_type": "code",
   "execution_count": 9,
   "id": "1d302ecc-7589-46bf-9ee8-297eaedac239",
   "metadata": {},
   "outputs": [
    {
     "name": "stdout",
     "output_type": "stream",
     "text": [
      "  Country Name Country Code  Year  Gross Domestic Product\n",
      "0   Arab World          ARB  1960              96388069.0\n",
      "1   Arab World          ARB  1961              98882541.4\n",
      "2   Arab World          ARB  1962             101474075.8\n",
      "3   Arab World          ARB  1963             104169209.2\n",
      "4   Arab World          ARB  1964             106978104.6\n"
     ]
    }
   ],
   "source": [
    "# rename the \"value\" column to be more specific.\n",
    "df1.rename(columns={\"Value\": \"Gross Domestic Product\"}, inplace=True)\n",
    "\n",
    "# create a list of data names to exclude from our final df since they are territories and not countries.\n",
    "territories_to_exclude = [\n",
    "    \"New Caledonia\", \"Northern Mariana Islands\", \"Puerto Rico\",\n",
    "    \"Turks and Caicos Islands\", \"Virgin Islands (U.S.)\", \"Mayotte\",\n",
    "    \"Isle of Man\", \"Guam\", \"Greenland\", \"Gibraltar\", \"Faeroe Islands\",\n",
    "    \"Curacao\", \"Channel Islands\", \"Bermuda\", \"American Samoa\"\n",
    "]\n",
    "\n",
    "# Filter out territories\n",
    "df1_filtered = df1[~df1['Country Name'].isin(territories_to_exclude)]\n",
    "\n",
    "# Display the filtered DataFrame\n",
    "print(df1_filtered.head(5))"
   ]
  },
  {
   "cell_type": "markdown",
   "id": "51a70fda-26b8-4611-aab4-c06a3017edf7",
   "metadata": {},
   "source": [
    "## Section 4: Post-Processing Summary\n",
    "Given that some data points were deleted, we should expect a decrease in the number of rows but not the number of columns. "
   ]
  },
  {
   "cell_type": "code",
   "execution_count": 11,
   "id": "9f4eb15a-38e0-438a-a74a-19c53d83ab7c",
   "metadata": {},
   "outputs": [
    {
     "name": "stdout",
     "output_type": "stream",
     "text": [
      "Number of rows ingested: 11680\n",
      "Number of columns ingested: 4\n",
      "Data modification successful!\n"
     ]
    }
   ],
   "source": [
    "# Number of rows\n",
    "print(\"Number of rows ingested: \"+str(len(df1_filtered.index)))\n",
    "\n",
    "# Number of Columns\n",
    "print(\"Number of columns ingested: \"+str(len(df1_filtered.columns)))\n",
    "\n",
    "if ((len(df1_filtered.index) >= len(df1.index)) or (len(df1_filtered.columns) != len(df1.columns))):\n",
    "    print(\"It appears the data was incorrectly modified, please double-check the code for bugs.\")\n",
    "else:\n",
    "    print(\"Data modification successful!\")\n",
    "    "
   ]
  },
  {
   "cell_type": "markdown",
   "id": "6b3d326a-6fb7-4816-8312-570c5bf714a4",
   "metadata": {},
   "source": [
    "## Section 5: Converting DF to CSV"
   ]
  },
  {
   "cell_type": "code",
   "execution_count": 13,
   "id": "e2abb4b6-561e-4d1d-a0a5-e77995da60fe",
   "metadata": {},
   "outputs": [
    {
     "name": "stdout",
     "output_type": "stream",
     "text": [
      "csv exported!\n"
     ]
    }
   ],
   "source": [
    "# Convert DataFrame to CSV\n",
    "df1_filtered.to_csv('filtered_dataframe.csv', index=False)\n",
    "print(\"csv exported!\")"
   ]
  },
  {
   "cell_type": "markdown",
   "id": "99ab2217-f43f-4701-9c22-46441e871e66",
   "metadata": {},
   "source": [
    "## Section 6: Converting CSV to SQL"
   ]
  },
  {
   "cell_type": "code",
   "execution_count": 15,
   "id": "91513142-1f79-4c37-b080-fa8ec20316e9",
   "metadata": {},
   "outputs": [
    {
     "name": "stdout",
     "output_type": "stream",
     "text": [
      "database created!\n"
     ]
    }
   ],
   "source": [
    "import sqlite3\n",
    "\n",
    "# read the csv into a dataframe using the built-in pandas command.\n",
    "df = pd.read_csv('filtered_dataframe.csv')\n",
    "\n",
    "# from there, we can connect the df to an sql database with the built-in command!\n",
    "conn = sqlite3.connect('country_wealth.db')\n",
    "df.to_sql('Countries', conn, if_exists='replace', index=False)\n",
    "\n",
    "conn.close()\n",
    "print(\"database created!\")"
   ]
  },
  {
   "cell_type": "markdown",
   "id": "c5b23b4c-8329-48d6-b087-1462efc6ff87",
   "metadata": {},
   "source": [
    "## Section 7: Testing SQL"
   ]
  },
  {
   "cell_type": "code",
   "execution_count": null,
   "id": "5c3cdc96-be7d-4a03-810e-863bc75d5462",
   "metadata": {},
   "outputs": [],
   "source": [
    "### 7a. All Country GDPs from 2000"
   ]
  },
  {
   "cell_type": "code",
   "execution_count": 17,
   "id": "f186985c-5232-4ae6-bccc-d4ac911f6cb8",
   "metadata": {},
   "outputs": [
    {
     "name": "stdout",
     "output_type": "stream",
     "text": [
      "All Country GDPs from the year 2000:\n",
      "\n",
      "Country Name | Country Code | Year | Gross Domestic Product\n",
      "('Arab World', 'ARB', 2000, 285376280.293994)\n",
      "('Caribbean small states', 'CSS', 2000, 6453378.55137656)\n",
      "('East Asia & Pacific (all income levels)', 'EAS', 2000, 2044996322.0)\n",
      "('East Asia & Pacific (developing only)', 'EAP', 2000, 1813796742.0)\n",
      "('Euro area', 'EMU', 2000, 315000148.0)\n",
      "('Europe & Central Asia (all income levels)', 'ECS', 2000, 862063708.642516)\n",
      "('Europe & Central Asia (developing only)', 'ECA', 2000, 398510208.642517)\n",
      "('European Union', 'EUU', 2000, 483527101.0)\n",
      "('Heavily indebted poor countries (HIPC)', 'HPC', 2000, 491037247.5)\n",
      "('High income', 'HIC', 2000, 1049573305.61653)\n",
      "('High income: nonOECD', 'NOC', 2000, 75790192.6165284)\n",
      "('High income: OECD', 'OEC', 2000, 973783113.0)\n",
      "('Latin America & Caribbean (all income levels)', 'LCN', 2000, 520373971.5758)\n",
      "('Latin America & Caribbean (developing only)', 'LAC', 2000, 514251596.959271)\n",
      "('Least developed countries: UN classification', 'LDC', 2000, 665090990.5)\n",
      "('Low & middle income', 'LMY', 2000, 5068232225.94503)\n",
      "('Low income', 'LIC', 2000, 643692522.5)\n",
      "('Lower middle income', 'LMC', 2000, 2146677647.48576)\n",
      "('Middle East & North Africa (all income levels)', 'MEA', 2000, 312596988.293994)\n",
      "('Middle East & North Africa (developing only)', 'MNA', 2000, 277413759.293994)\n",
      "('Middle income', 'MIC', 2000, 4424539703.44503)\n",
      "('North America', 'NAC', 2000, 312994242.0)\n",
      "('OECD members', 'OED', 2000, 1152790389.0)\n",
      "('Other small states', 'OSS', 2000, 15539576.5492468)\n",
      "('Pacific island small states', 'PSS', 2000, 2781946.0)\n",
      "('Small states', 'SST', 2000, 24774901.1006234)\n",
      "('South Asia', 'SAS', 2000, 1397953577.5)\n",
      "('Sub-Saharan Africa (all income levels)', 'SSF', 2000, 666826721.549247)\n",
      "('Sub-Saharan Africa (developing only)', 'SSA', 2000, 666306341.549247)\n",
      "('Upper middle income', 'UMC', 2000, 2277862055.95927)\n",
      "('World', 'WLD', 2000, 6117805531.56156)\n",
      "('Afghanistan', 'AFG', 2000, 25950815.5)\n",
      "('Albania', 'ALB', 2000, 3071856.0)\n",
      "('Algeria', 'DZA', 2000, 30533827.0)\n",
      "('Andorra', 'AND', 2000, 64634.0)\n",
      "('Angola', 'AGO', 2000, 13926373.0)\n",
      "('Antigua and Barbuda', 'ATG', 2000, 77656.0)\n",
      "('Argentina', 'ARG', 2000, 36930709.0)\n",
      "('Armenia', 'ARM', 2000, 3076098.0)\n",
      "('Aruba', 'ABW', 2000, 90271.0)\n",
      "('Australia', 'AUS', 2000, 19153000.0)\n",
      "('Austria', 'AUT', 2000, 8011566.0)\n",
      "('Azerbaijan', 'AZE', 2000, 8048600.0)\n",
      "('Bahamas, The', 'BHS', 2000, 297651.0)\n",
      "('Bahrain', 'BHR', 2000, 638193.0)\n",
      "('Bangladesh', 'BGD', 2000, 129592275.0)\n",
      "('Barbados', 'BRB', 2000, 267511.0)\n",
      "('Belarus', 'BLR', 2000, 10005000.0)\n",
      "('Belgium', 'BEL', 2000, 10251250.0)\n",
      "('Belize', 'BLZ', 2000, 249800.0)\n",
      "('Benin', 'BEN', 2000, 6517810.0)\n",
      "('Bhutan', 'BTN', 2000, 571262.0)\n",
      "('Bolivia', 'BOL', 2000, 8307248.0)\n",
      "('Bosnia and Herzegovina', 'BIH', 2000, 3693698.0)\n",
      "('Botswana', 'BWA', 2000, 1757925.0)\n",
      "('Brazil', 'BRA', 2000, 174425387.0)\n",
      "('Brunei Darussalam', 'BRN', 2000, 327036.0)\n",
      "('Bulgaria', 'BGR', 2000, 8170172.0)\n",
      "('Burkina Faso', 'BFA', 2000, 12294012.0)\n",
      "('Burundi', 'BDI', 2000, 6374347.0)\n",
      "('Cambodia', 'KHM', 2000, 12446949.0)\n",
      "('Cameroon', 'CMR', 2000, 15678269.0)\n",
      "('Canada', 'CAN', 2000, 30769700.0)\n",
      "('Cape Verde', 'CPV', 2000, 437238.0)\n",
      "('Cayman Islands', 'CYM', 2000, 40195.0)\n",
      "('Central African Republic', 'CAF', 2000, 3701607.0)\n",
      "('Chad', 'TCD', 2000, 8222327.0)\n",
      "('Chile', 'CHL', 2000, 15419820.0)\n",
      "('China', 'CHN', 2000, 1262645000.0)\n",
      "('Colombia', 'COL', 2000, 39764166.0)\n",
      "('Comoros', 'COM', 2000, 562469.0)\n",
      "('Congo, Dem. Rep.', 'COD', 2000, 49626200.0)\n",
      "('Congo, Rep.', 'COG', 2000, 3135773.0)\n",
      "('Costa Rica', 'CRI', 2000, 3919180.0)\n",
      "(\"Cote d'Ivoire\", 'CIV', 2000, 16581653.0)\n",
      "('Croatia', 'HRV', 2000, 4426000.0)\n",
      "('Cuba', 'CUB', 2000, 11104313.0)\n",
      "('Cyprus', 'CYP', 2000, 943294.0)\n",
      "('Czech Republic', 'CZE', 2000, 10272322.0)\n",
      "('Denmark', 'DNK', 2000, 5339616.0)\n",
      "('Djibouti', 'DJI', 2000, 731930.0)\n",
      "('Dominica', 'DMA', 2000, 69672.0)\n",
      "('Dominican Republic', 'DOM', 2000, 8591967.0)\n",
      "('Ecuador', 'ECU', 2000, 12345023.0)\n",
      "('Egypt, Arab Rep.', 'EGY', 2000, 67648419.0)\n",
      "('El Salvador', 'SLV', 2000, 5940305.0)\n",
      "('Equatorial Guinea', 'GNQ', 2000, 520380.0)\n",
      "('Eritrea', 'ERI', 2000, 3667576.0)\n",
      "('Estonia', 'EST', 2000, 1369515.0)\n",
      "('Ethiopia', 'ETH', 2000, 65577897.0)\n",
      "('Fiji', 'FJI', 2000, 811718.0)\n",
      "('Finland', 'FIN', 2000, 5176209.0)\n",
      "('France', 'FRA', 2000, 60762169.0)\n",
      "('French Polynesia', 'PYF', 2000, 237638.0)\n",
      "('Gabon', 'GAB', 2000, 1235274.0)\n",
      "('Gambia, The', 'GMB', 2000, 1297084.0)\n",
      "('Georgia', 'GEO', 2000, 4418300.0)\n",
      "('Germany', 'DEU', 2000, 82211508.0)\n",
      "('Ghana', 'GHA', 2000, 19165490.0)\n",
      "('Greece', 'GRC', 2000, 10917482.0)\n",
      "('Grenada', 'GRD', 2000, 101522.0)\n",
      "('Guatemala', 'GTM', 2000, 11237101.0)\n",
      "('Guinea', 'GIN', 2000, 8344486.0)\n",
      "('Guinea-Bissau', 'GNB', 2000, 1240655.0)\n",
      "('Guyana', 'GUY', 2000, 733101.0)\n",
      "('Haiti', 'HTI', 2000, 8645371.0)\n",
      "('Honduras', 'HND', 2000, 6218151.0)\n",
      "('Hong Kong SAR, China', 'HKG', 2000, 6665000.0)\n",
      "('Hungary', 'HUN', 2000, 10210971.0)\n",
      "('Iceland', 'ISL', 2000, 281205.0)\n",
      "('India', 'IND', 2000, 1053898107.0)\n",
      "('Indonesia', 'IDN', 2000, 213395411.0)\n",
      "('Iran, Islamic Rep.', 'IRN', 2000, 65342319.0)\n",
      "('Iraq', 'IRQ', 2000, 24313640.5)\n",
      "('Ireland', 'IRL', 2000, 3805174.0)\n",
      "('Israel', 'ISR', 2000, 6289000.0)\n",
      "('Italy', 'ITA', 2000, 56942108.0)\n",
      "('Jamaica', 'JAM', 2000, 2589388.55137656)\n",
      "('Japan', 'JPN', 2000, 126870000.0)\n",
      "('Jordan', 'JOR', 2000, 4797500.0)\n",
      "('Kazakhstan', 'KAZ', 2000, 14883626.0)\n",
      "('Kenya', 'KEN', 2000, 31253701.0)\n",
      "('Kiribati', 'KIR', 2000, 84010.0)\n",
      "('Korea, Dem. Rep.', 'PRK', 2000, 22894095.0)\n",
      "('Korea, Rep.', 'KOR', 2000, 47008000.0)\n",
      "('Kosovo', 'KSV', 2000, 1700000.0)\n",
      "('Kuwait', 'KWT', 2000, 1940786.0)\n",
      "('Kyrgyz Republic', 'KGZ', 2000, 4898300.0)\n",
      "('Lao PDR', 'LAO', 2000, 5317060.0)\n",
      "('Latvia', 'LVA', 2000, 2372985.0)\n",
      "('Lebanon', 'LBN', 2000, 3742329.0)\n",
      "('Lesotho', 'LSO', 2000, 1963878.0)\n",
      "('Liberia', 'LBR', 2000, 2847290.0)\n",
      "('Libya', 'LBY', 2000, 5231189.0)\n",
      "('Liechtenstein', 'LIE', 2000, 32853.0)\n",
      "('Lithuania', 'LTU', 2000, 3499536.0)\n",
      "('Luxembourg', 'LUX', 2000, 436300.0)\n",
      "('Macao SAR, China', 'MAC', 2000, 431867.0)\n",
      "('Macedonia, FYR', 'MKD', 2000, 2009091.0)\n",
      "('Madagascar', 'MDG', 2000, 15364272.0)\n",
      "('Malawi', 'MWI', 2000, 11228756.0)\n",
      "('Malaysia', 'MYS', 2000, 23414909.0)\n",
      "('Maldives', 'MDV', 2000, 273236.0)\n",
      "('Mali', 'MLI', 2000, 11295324.0)\n",
      "('Malta', 'MLT', 2000, 381363.0)\n",
      "('Marshall Islands', 'MHL', 2000, 52145.0)\n",
      "('Mauritania', 'MRT', 2000, 2642743.0)\n",
      "('Mauritius', 'MUS', 2000, 1186873.0)\n",
      "('Mexico', 'MEX', 2000, 99959594.0)\n",
      "('Micronesia, Fed. Sts.', 'FSM', 2000, 107103.0)\n",
      "('Moldova', 'MDA', 2000, 3639588.0)\n",
      "('Monaco', 'MCO', 2000, 35126.0)\n",
      "('Mongolia', 'MNG', 2000, 2411369.0)\n",
      "('Montenegro', 'MNE', 2000, 632606.0)\n",
      "('Morocco', 'MAR', 2000, 28793236.0)\n",
      "('Mozambique', 'MOZ', 2000, 18200656.0)\n",
      "('Myanmar', 'MMR', 2000, 44957660.0)\n",
      "('Namibia', 'NAM', 2000, 1895839.0)\n",
      "('Nepal', 'NPL', 2000, 24400606.0)\n",
      "('Netherlands', 'NLD', 2000, 15925513.0)\n",
      "('New Zealand', 'NZL', 2000, 3857800.0)\n",
      "('Nicaragua', 'NIC', 2000, 5073704.0)\n",
      "('Niger', 'NER', 2000, 10922421.0)\n",
      "('Nigeria', 'NGA', 2000, 123688536.0)\n",
      "('Norway', 'NOR', 2000, 4490967.0)\n",
      "('Oman', 'OMN', 2000, 2264163.0)\n",
      "('Pakistan', 'PAK', 2000, 144522192.0)\n",
      "('Palau', 'PLW', 2000, 19172.0)\n",
      "('Panama', 'PAN', 2000, 2956126.0)\n",
      "('Papua New Guinea', 'PNG', 2000, 5378824.0)\n",
      "('Paraguay', 'PRY', 2000, 5343539.0)\n",
      "('Peru', 'PER', 2000, 25861887.0)\n",
      "('Philippines', 'PHL', 2000, 77309965.0)\n",
      "('Poland', 'POL', 2000, 38453757.0)\n",
      "('Portugal', 'PRT', 2000, 10225836.0)\n",
      "('Qatar', 'QAT', 2000, 590957.0)\n",
      "('Romania', 'ROU', 2000, 22442971.0)\n",
      "('Russian Federation', 'RUS', 2000, 146303000.0)\n",
      "('Rwanda', 'RWA', 2000, 8098344.0)\n",
      "('Samoa', 'WSM', 2000, 176549.0)\n",
      "('San Marino', 'SMR', 2000, 26967.0)\n",
      "('Sao Tome and Principe', 'STP', 2000, 141010.0)\n",
      "('Saudi Arabia', 'SAU', 2000, 20045276.0)\n",
      "('Senegal', 'SEN', 2000, 9505862.0)\n",
      "('Serbia', 'SRB', 2000, 7516346.0)\n",
      "('Seychelles', 'SYC', 2000, 81131.0)\n",
      "('Sierra Leone', 'SLE', 2000, 4143115.0)\n",
      "('Singapore', 'SGP', 2000, 4027900.0)\n",
      "('Sint Maarten (Dutch part)', 'SXM', 2000, 30519.3964553692)\n",
      "('Slovak Republic', 'SVK', 2000, 5388720.0)\n",
      "('Slovenia', 'SVN', 2000, 1988925.0)\n",
      "('Solomon Islands', 'SLB', 2000, 408732.0)\n",
      "('Somalia', 'SOM', 2000, 7399033.0)\n",
      "('South Africa', 'ZAF', 2000, 44000000.0)\n",
      "('Spain', 'ESP', 2000, 40263216.0)\n",
      "('Sri Lanka', 'LKA', 2000, 18745084.0)\n",
      "('St. Kitts and Nevis', 'KNA', 2000, 44286.0)\n",
      "('St. Lucia', 'LCA', 2000, 155996.0)\n",
      "('St. Martin (French part)', 'MAF', 2000, 28384.0)\n",
      "('St. Vincent and the Grenadines', 'VCT', 2000, 107891.0)\n",
      "('Sudan', 'SDN', 2000, 34187729.0)\n",
      "('Suriname', 'SUR', 2000, 466846.0)\n",
      "('Swaziland', 'SWZ', 2000, 1010786.54924681)\n",
      "('Sweden', 'SWE', 2000, 8872109.0)\n",
      "('Switzerland', 'CHE', 2000, 7184250.0)\n",
      "('Syrian Arab Republic', 'SYR', 2000, 15988534.0)\n",
      "('Tajikistan', 'TJK', 2000, 6172807.0)\n",
      "('Tanzania', 'TZA', 2000, 34038161.0)\n",
      "('Thailand', 'THA', 2000, 63155029.0)\n",
      "('Timor-Leste', 'TLS', 2000, 830089.0)\n",
      "('Togo', 'TGO', 2000, 4793504.0)\n",
      "('Tonga', 'TON', 2000, 97935.0)\n",
      "('Trinidad and Tobago', 'TTO', 2000, 1292058.0)\n",
      "('Tunisia', 'TUN', 2000, 9563500.0)\n",
      "('Turkey', 'TUR', 2000, 63627862.0)\n",
      "('Turkmenistan', 'TKM', 2000, 4501419.0)\n",
      "('Tuvalu', 'TUV', 2000, 9419.0)\n",
      "('Uganda', 'UGA', 2000, 24213120.0)\n",
      "('Ukraine', 'UKR', 2000, 49175847.6425165)\n",
      "('United Arab Emirates', 'ARE', 2000, 3033491.0)\n",
      "('United Kingdom', 'GBR', 2000, 58892514.0)\n",
      "('United States', 'USA', 2000, 282162411.0)\n",
      "('Uruguay', 'URY', 2000, 3300847.40789493)\n",
      "('Uzbekistan', 'UZB', 2000, 24650500.0)\n",
      "('Vanuatu', 'VUT', 2000, 185074.0)\n",
      "('Venezuela, RB', 'VEN', 2000, 24311000.0)\n",
      "('Vietnam', 'VNM', 2000, 77630900.0)\n",
      "('West Bank and Gaza', 'PSE', 2000, 3004149.793994)\n",
      "('Yemen, Rep.', 'YEM', 2000, 17723186.0)\n",
      "('Zambia', 'ZMB', 2000, 10201562.0)\n",
      "('Zimbabwe', 'ZWE', 2000, 12509477.0)\n"
     ]
    }
   ],
   "source": [
    "# Connect to SQLite\n",
    "conn = sqlite3.connect('country_wealth.db')\n",
    "c = conn.cursor()\n",
    "\n",
    "# Select all countries from the year 2000.\n",
    "c.execute('''\n",
    "SELECT * FROM Countries WHERE YEAR = 2000\n",
    "''')\n",
    "\n",
    "# Fetch and display the results\n",
    "joined_data = c.fetchall()\n",
    "\n",
    "print(\"All Country GDPs from the year 2000:\\n\")\n",
    "\n",
    "# Getting column headers (used ChatGPT for assistance on showing the headers, since there is no sqlite method to do this)\n",
    "headers = [description[0] for description in c.description]\n",
    "\n",
    "# Print the headers\n",
    "print(\" | \".join(headers))\n",
    "\n",
    "for row in joined_data:\n",
    "    print(row)\n",
    "\n",
    "conn.commit()\n",
    "conn.close()"
   ]
  },
  {
   "cell_type": "markdown",
   "id": "41ffd21b-17be-40b8-8afc-0883ae57ce86",
   "metadata": {},
   "source": [
    "### 7b. All Countries starting with S and from 2001"
   ]
  },
  {
   "cell_type": "code",
   "execution_count": 19,
   "id": "c7b218d2-89cb-4094-ab6b-c0a2887b6230",
   "metadata": {},
   "outputs": [
    {
     "name": "stdout",
     "output_type": "stream",
     "text": [
      "All Countries with country codes starting with S:\n",
      "\n",
      "('Small states', 'SST', 2001, 25142740.4806712)\n",
      "('South Asia', 'SAS', 2001, 1422342004.19361)\n",
      "('Sub-Saharan Africa (all income levels)', 'SSF', 2001, 683959278.861608)\n",
      "('Sub-Saharan Africa (developing only)', 'SSA', 2001, 683422083.861608)\n",
      "('El Salvador', 'SLV', 2001, 5966027.0)\n",
      "('San Marino', 'SMR', 2001, 27543.0)\n",
      "('Sao Tome and Principe', 'STP', 2001, 143430.0)\n",
      "('Saudi Arabia', 'SAU', 2001, 20681576.0)\n",
      "('Senegal', 'SEN', 2001, 9758841.0)\n",
      "('Serbia', 'SRB', 2001, 7503433.0)\n",
      "('Seychelles', 'SYC', 2001, 81202.0)\n",
      "('Sierra Leone', 'SLE', 2001, 4303850.0)\n",
      "('Singapore', 'SGP', 2001, 4138000.0)\n",
      "('Sint Maarten (Dutch part)', 'SXM', 2001, 31189.0)\n",
      "('Slovak Republic', 'SVK', 2001, 5378867.0)\n",
      "('Slovenia', 'SVN', 2001, 1992060.0)\n",
      "('Solomon Islands', 'SLB', 2001, 420232.0)\n",
      "('Somalia', 'SOM', 2001, 7596920.0)\n",
      "('Sudan', 'SDN', 2001, 35002234.0)\n",
      "('Suriname', 'SUR', 2001, 473431.0)\n",
      "('Swaziland', 'SWZ', 2001, 1012110.86160827)\n",
      "('Sweden', 'SWE', 2001, 8895960.0)\n",
      "('Syrian Arab Republic', 'SYR', 2001, 16454926.0)\n"
     ]
    }
   ],
   "source": [
    "# Connect to SQLite\n",
    "conn = sqlite3.connect('country_wealth.db')\n",
    "c = conn.cursor()\n",
    "\n",
    "## Select all countries where country code starts with S.\n",
    "c.execute('''\n",
    "SELECT * FROM Countries\n",
    "WHERE \"Country Code\" LIKE 'S%' AND YEAR = 2001\n",
    "''')\n",
    "\n",
    "# Fetch and display the results\n",
    "joined_data = c.fetchall()\n",
    "\n",
    "print(\"All Countries with country codes starting with S:\\n\")\n",
    "\n",
    "for row in joined_data:\n",
    "    print(row)\n",
    "\n",
    "conn.commit()\n",
    "conn.close()"
   ]
  },
  {
   "cell_type": "markdown",
   "id": "c56e72d4-994d-4159-9e2c-d69a7f948758",
   "metadata": {},
   "source": [
    "### 7c. All Countries with a GDP over 500 million in 1987"
   ]
  },
  {
   "cell_type": "code",
   "execution_count": 25,
   "id": "5c05b2e3-d853-456c-beab-99b4d97386b0",
   "metadata": {},
   "outputs": [
    {
     "name": "stdout",
     "output_type": "stream",
     "text": [
      "All Countries in 1987 with a GDP over 500 million:\n",
      "\n",
      "('East Asia & Pacific (all income levels)', 'EAS', 1987, 1738262202.35216)\n",
      "('East Asia & Pacific (developing only)', 'EAP', 1987, 1526043132.51293)\n",
      "('Europe & Central Asia (all income levels)', 'ECS', 1987, 828175017.397117)\n",
      "('High income', 'HIC', 1987, 957931340.439235)\n",
      "('High income: OECD', 'OEC', 1987, 896463935.0)\n",
      "('Low & middle income', 'LMY', 1987, 4072880372.41119)\n",
      "('Lower middle income', 'LMC', 1987, 1663438382.48423)\n",
      "('Middle income', 'MIC', 1987, 3605974717.82173)\n",
      "('OECD members', 'OED', 1987, 1039690799.0)\n",
      "('South Asia', 'SAS', 1987, 1072274632.58946)\n",
      "('Upper middle income', 'UMC', 1987, 1942536335.33749)\n",
      "('World', 'WLD', 1987, 5030811712.85042)\n",
      "('China', 'CHN', 1987, 1084035000.0)\n",
      "('India', 'IND', 1987, 819800055.0)\n"
     ]
    }
   ],
   "source": [
    "# Connect to SQLite\n",
    "conn = sqlite3.connect('country_wealth.db')\n",
    "c = conn.cursor()\n",
    "\n",
    "## Select all countries where GDP is more than 500 million in the year 1987.\n",
    "c.execute('''\n",
    "SELECT * FROM Countries\n",
    "WHERE \"Gross Domestic Product\" > 500000000 AND YEAR = 1987\n",
    "''')\n",
    "\n",
    "# Fetch and display the results\n",
    "joined_data = c.fetchall()\n",
    "\n",
    "print(\"All Countries in 1987 with a GDP over 500 million:\\n\")\n",
    "\n",
    "for row in joined_data:\n",
    "    print(row)\n",
    "\n",
    "conn.commit()\n",
    "conn.close()"
   ]
  },
  {
   "cell_type": "markdown",
   "id": "fb7fa009-7704-433b-8c05-71919fab4541",
   "metadata": {},
   "source": [
    "# Part 3: One Pager\n",
    "Submit a 1 pager on the your experience reflecting on the challenges, what was easier than you thought and what was harder. How would a utility like this be useful for other data projects you may encounter?"
   ]
  },
  {
   "cell_type": "markdown",
   "id": "d21df4af-4afb-40f7-ba67-45d5fdf73624",
   "metadata": {},
   "source": [
    "Reflecting on the challenges faced during this project, I found the experience to be very insightful! One aspect that was easier than expected was working with SQL queries. I really enjoyed that part of the project since I was already somewhat familiar with SQL queries, and the SQLLite dataframe was very easy to navigate. Also, discovering that pandas had built-in commands for dataframe conversions was a very pleasant surprise! These functions made the process of converting data from JSON-to-df and df-to-JSON much smoother and more intuitive, which saved me a lot of time and effort.\n",
    "\n",
    "I did encounter some challenges, however. For one, ingesting data from URLs proved to be tricky. On some sites like Kaggle, even though I was signed up, I struggled to get direct download links that would work with the Python URL reader. I ultimately found the URL link via Google Chrome’s \"Inspect\" tool, to retrieve the public download link, and GitHub for another link. Another significant challenge was handling JSON files in general. Initially, modifying the JSON files directly was very difficult, so I pivoted to converting them to dataframes, making the modifications I needed, and then converting them back to JSON format.\n",
    "\n",
    "Tools like SQLite, pandas dataframes, and CSV files made the remainder of the project much more manageable. After converting the JSON files, it became simpler to manipulate and analyze the data. Overall, I had a lot of fun with this project!\n",
    "\n",
    "Looking ahead, I anticipate using these techniques in future projects. In learning how to make a data pipeline myself, I feel it really helps to understand the bigger picture of why data conversion and manipulation is important for data analysis. Rather than focusing solely on the results, how do we get to our results? In this project, I feel that I became a lot more confident in answering that question.r?"
   ]
  }
 ],
 "metadata": {
  "kernelspec": {
   "display_name": "Python 3 (ipykernel)",
   "language": "python",
   "name": "python3"
  },
  "language_info": {
   "codemirror_mode": {
    "name": "ipython",
    "version": 3
   },
   "file_extension": ".py",
   "mimetype": "text/x-python",
   "name": "python",
   "nbconvert_exporter": "python",
   "pygments_lexer": "ipython3",
   "version": "3.12.4"
  }
 },
 "nbformat": 4,
 "nbformat_minor": 5
}
